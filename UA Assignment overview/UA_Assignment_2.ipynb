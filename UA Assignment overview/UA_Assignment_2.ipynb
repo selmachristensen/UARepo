{
 "cells": [
  {
   "cell_type": "markdown",
   "id": "e2188595-21e5-4a10-9c6b-a340e94759be",
   "metadata": {},
   "source": [
    "# GG4257 - Urban Analytics: A Toolkit for Sustainable Urban Development\n",
    "## Lab Assignment No 2: Networks, Geodemographics and Spatial Microsimulation.\n",
    "---\n",
    "Dr Fernando Benitez -  University of St Andrews - School of Geography and Sustainable Development - Iteration 2024"
   ]
  },
  {
   "attachments": {},
   "cell_type": "markdown",
   "id": "427a3535-e76e-4811-8167-33f656ff2644",
   "metadata": {},
   "source": [
    "# Assignment Instructions\n",
    "\n",
    "For this assignment, you are required to create a **report** that includes your approach to the challenges presented in practical **Labs 5, 6, and 7**. The report should be in the form of a **Jupyter Notebook** and should contain a **GitHub repository** where all the code used can be replicated to achieve the same results. You can use the same repository you shared during Assignment No 1, but describe where the new labs will be included. \n",
    "\n",
    "**General Considerations:**\n",
    "\n",
    "1. Include the coursework cover page available in the Virtual Office as the initial section of your report, with all relevant information and the GitHub repository link, but exclude the word count.  \n",
    "   \n",
    "2. You can structure your report as you prefer, but try to be consistent, organized and clear. You can use the same repository you shared during Assignment No 1, but describe where the new labs will be included. \n",
    "   \n",
    "3. To avoid exceeding the size limit of a GitHub repository, it may not be possible to push a notebook containing all outcomes. To address this issue, please include a screenshot of the last outcome of each challenge using the description cells in the notebook. Once included, clear all outcomes to reduce the notebook's size. I will reproduce the code and compare the images you provided with the outcomes I obtained while running your code to ensure that I get the same results.\n",
    "  \n",
    "4. Once again, you can structure this report in any way you want. Creating another creates a single, large notebook with multiple sections, or you can follow the nested notebook with folders structure I provided during the last Assigment. There will be marks given for the structure, coherence, consistency, and clarity of your report \n",
    "   \n",
    "5. **Descriptions and Coding Comments**: Each code cell should have comments that describe what the code is doing, any issues or barriers, citations, and other relevant information. Use markdown cells where you explain the problem you are addressing and how you did it (here, you can add *screenshots* from the final outcomes). Some challenges only require you to answer questions and provide insights. This will help the marker evaluate your understanding of the code, the outcomes, and the  problem you have solved.\n",
    "   \n",
    "6. **Data**: As you already know, the challenges usually come with data. Once again, ensure you add a clear restructure and description on how to get large data or any data you can't push into the repo. For larger datasets, you can state that the data will be available in a public folder such as *Google Drive* or *One Drive*. Then, provide instructions on where to add or locate the data to replicate the results properly.\n",
    "\n",
    "   >It is your responsibility to ensure the reproducibility of the repo and notebook. Make sure everything is clearly described and available. This is a typical workflow for most spatial data science projects, particularly in urban analytics.\n",
    "\n",
    "8. The length of the report is not restricted, as you may need screenshots, descriptions, and code.\n",
    "   \n",
    "# Example of report structure and the challenges that must be included.\n",
    "\n",
    "- Cover Page\n",
    "- Introduction  - How to replicate the code and get the required data\n",
    "- Lab No 5: Intro to Networks - 2 Challenges\n",
    "- Lab No 6: Geodemographics: 1 Challenges\n",
    "- Lab No 7: Spatial Microsimulation: 3 Challenges\n",
    "- Final Remarks(limitations, barriers, and any additional comments)\n"
   ]
  },
  {
   "attachments": {},
   "cell_type": "markdown",
   "id": "dc0cf031-e154-490c-a83c-04b14baba968",
   "metadata": {},
   "source": [
    "# Hints:\n",
    "\n",
    "1. **Data:** You can create a public Google Drive/One Drive folder to store any large dataset you have used to achieve the challenges (Make dure you add the correct links to any external folder where the data is located). Provide the instruccions of how to store the data. If you have included any token access, ensure the token is working, and after the grade is provided, you can remove it and create a new one, if needed.\n",
    "2. If you prefer to use a report structure consisting of nested notebooks, it is helpful to organize your repository with folders, each with a dedicated data folder. I have included an example of nested notebooks for you, where you can easily link to different sections within the same notebook or to other notebooks and specific sections. To see how this is done, **go to the folder call RepoPrototype** to explore an example of a repo with nested notebooks."
   ]
  },
  {
   "cell_type": "markdown",
   "id": "bbffbdb4-4e2b-4c8e-a652-5fae7347a7d3",
   "metadata": {},
   "source": [
    "# Submission Procedure\n",
    "\n",
    "- **To submit your assignment**. Unfortunately, MMS doesn't support links or Notebook. Therefore, you need to create a PDF file which should include either the single notebook or the initial notebook (if you opt for the nested notebooks option). As the initial section will include the GitHub repository link, your repo can be cloned; then, the marker will use the PDF with the screenshots to replicate those results and provide grades. \n",
    "   \n",
    "- This assignment will be marked on a percentage scale (0-100 points). The point score will be transformed into the 1-20 mark using the table for “GRC for quantitative assignments” (see the SGSD \n",
    "Undergraduate Handbook for details). "
   ]
  },
  {
   "cell_type": "markdown",
   "id": "f63018f3-bbef-410d-ae68-b8654f53b403",
   "metadata": {},
   "source": [
    "# Academic Practice:\n",
    "\n",
    "As always, The University policy on Good Academic Practice applies. There are probably many ways to address the challenges in here or part of them. You are free to do research and find relevant resources, like the documentation website, if you cited them correctly. But I strongly advise not to use AI tools, most importantly because you won't learn/practice as you are supposed to.\n",
    "\n",
    "If you are not aware of **our academic misconduct policy**, kindly take a quick look (Pag 8. https://www.st-ndrews.ac.uk/policy/academic-policies-assessment-examination-and-award-good-academic-practice/good-academic-practice-guidance-for-students-frequently-asked-questions.pdf)"
   ]
  }
 ],
 "metadata": {
  "kernelspec": {
   "display_name": "Python 3 (ipykernel)",
   "language": "python",
   "name": "python3"
  },
  "language_info": {
   "codemirror_mode": {
    "name": "ipython",
    "version": 3
   },
   "file_extension": ".py",
   "mimetype": "text/x-python",
   "name": "python",
   "nbconvert_exporter": "python",
   "pygments_lexer": "ipython3",
   "version": "3.11.6"
  }
 },
 "nbformat": 4,
 "nbformat_minor": 5
}
