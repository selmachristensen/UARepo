{
 "cells": [
  {
   "cell_type": "code",
   "execution_count": 1,
   "id": "d40289cf-2f62-4c7e-84e5-60528649d2bd",
   "metadata": {},
   "outputs": [
    {
     "name": "stdout",
     "output_type": "stream",
     "text": [
      "Hello, world!\n"
     ]
    }
   ],
   "source": [
    "print(\"Hello, world!\")"
   ]
  },
  {
   "cell_type": "code",
   "execution_count": 2,
   "id": "15c8bebb-d8dc-4dd2-b56c-e388dcbffd21",
   "metadata": {},
   "outputs": [],
   "source": [
    "# My First Markdown Heading"
   ]
  },
  {
   "cell_type": "code",
   "execution_count": 3,
   "id": "893e0cf0-a13b-4c27-8a4f-5759d0e25a1d",
   "metadata": {},
   "outputs": [],
   "source": [
    "## My First Markdown Heading"
   ]
  },
  {
   "cell_type": "code",
   "execution_count": null,
   "id": "72fadaa7-914b-405c-bb9b-2b29db674e65",
   "metadata": {},
   "outputs": [],
   "source": []
  }
 ],
 "metadata": {
  "kernelspec": {
   "display_name": "Python 3 (ipykernel)",
   "language": "python",
   "name": "python3"
  },
  "language_info": {
   "codemirror_mode": {
    "name": "ipython",
    "version": 3
   },
   "file_extension": ".py",
   "mimetype": "text/x-python",
   "name": "python",
   "nbconvert_exporter": "python",
   "pygments_lexer": "ipython3",
   "version": "3.11.6"
  }
 },
 "nbformat": 4,
 "nbformat_minor": 5
}
