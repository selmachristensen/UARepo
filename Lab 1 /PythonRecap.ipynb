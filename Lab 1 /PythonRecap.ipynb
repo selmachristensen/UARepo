{
 "cells": [
  {
   "cell_type": "markdown",
   "id": "7aee5db5-d4d9-43ba-9da3-5ea6cf929ced",
   "metadata": {
    "jp-MarkdownHeadingCollapsed": true
   },
   "source": [
    "\n",
    "# Urban Analytics: A Toolkit for Sustainable Urban Development.\n",
    "\n",
    "## Notebook to practice the Python Basics\n",
    "\n",
    "---\n",
    "\n",
    "Dr Fernando Benitez-Paez -  University of St Andrews - School of Geography and Sustainable Development Iteration 2024-1.0"
   ]
  },
  {
   "cell_type": "markdown",
   "id": "c992eb8c-23bc-4675-ac2c-2ac37cdee82b",
   "metadata": {},
   "source": [
    "# Exercise 1:  Introduction to Markdown\n",
    "\n",
    "* In the following Markdown cell, write your name, you student ID, your github user, and the URL of your UA repo in github.\n",
    "* Insert three links to your favourite websites.\n",
    "* Check this website to get all the syntax from Markdown https://www.markdownguide.org/basic-syntax/"
   ]
  },
  {
   "cell_type": "markdown",
   "id": "61b291e0",
   "metadata": {},
   "source": [
    "### Info\n",
    "#### Selma Christensen\n",
    "#### selmachristensen\n",
    "#### 180021112\n",
    "#### https://github.com/selmachristensen/UARepo\n",
    "\n",
    "---------------------------------------------\n",
    "\n",
    "### Favorite Websites\n",
    "#### https://www.nytimes.com/crosswords?campaignId=6F88R&redirect_uri=https%3A%2F%2Fwww.nytimes.com%2F\n",
    "#### https://www.momondo.co.uk\n",
    "#### https://www.dmi.dk\n"
   ]
  },
  {
   "cell_type": "markdown",
   "id": "31f919a6-948b-471f-9d1b-cafff54bf19a",
   "metadata": {},
   "source": [
    "# Challenge 1: \n",
    " Create a table with required columns and rows to represent the type of roads in the UK. The table should include headers and hiperlinks."
   ]
  },
  {
   "cell_type": "markdown",
   "id": "ca582e24-300e-4d5b-96d1-dbb40650119d",
   "metadata": {},
   "source": [
    "#### Types of roads in the UK\n",
    "\n",
    "| street | avenue | boulevard | lane | highway | alley |\n",
    "|---|---|---|---|---|---|\n",
    "| [street explanation](https://en.wikipedia.org/wiki/Street)| [avenue explanation](https://en.wikipedia.org/wiki/Avenue) | [boulevard explanation](https://en.wikipedia.org/wiki/Boulevard) | [lane explanation](https://en.wikipedia.org/wiki/Lane) | [highway explanation](https://en.wikipedia.org/wiki/Highway#History) | [alley explanation](https://en.wikipedia.org/wiki/Alley) |"
   ]
  },
  {
   "cell_type": "markdown",
   "id": "01df08d4-ef70-4b32-aa07-36a1978994b1",
   "metadata": {},
   "source": [
    "# Exercise 2:  Working with Variables\n",
    "\n",
    "* Declare two variables, num1 and num2, with values 5 and 8 respectively\n",
    "* Sum these variables and print the results \n",
    "* Swap the values of num1 and num2.\n"
   ]
  },
  {
   "cell_type": "code",
   "execution_count": 3,
   "id": "4ca2f64a-2174-4c76-97fd-3b4cc1e347cd",
   "metadata": {},
   "outputs": [
    {
     "name": "stdout",
     "output_type": "stream",
     "text": [
      "Sum: 13\n",
      "Swapped values: num1=8, num2=5\n"
     ]
    }
   ],
   "source": [
    "num1 = 5\n",
    "num2 = 8\n",
    "\n",
    "# Sum the previous variables and print the result. Recall how we can use the f marker to style the outcome\n",
    "sum_result = num1 + num2\n",
    "print(f\"Sum: {sum_result}\")\n",
    "\n",
    "# Swap the values of num1 and num2. Recall how variables can be modified \n",
    "num1, num2 = num2, num1\n",
    "print(f\"Swapped values: num1={num1}, num2={num2}\")"
   ]
  },
  {
   "cell_type": "markdown",
   "id": "ac1dedd1-f71b-482f-9244-447d01070c38",
   "metadata": {},
   "source": [
    "# Challenge 2:\n",
    "\n",
    "In the following cell, create the code to calculate the average of three numbers and print the result. There is no need for functions. Comment your code and the process.\n"
   ]
  },
  {
   "cell_type": "code",
   "execution_count": 6,
   "id": "89a240c1-dc96-47f8-add8-0d9754463507",
   "metadata": {},
   "outputs": [
    {
     "name": "stdout",
     "output_type": "stream",
     "text": [
      "4.5\n"
     ]
    }
   ],
   "source": [
    "num1 = 2\n",
    "num2 = 3\n",
    "num3 = 4\n",
    "\n",
    "average_sum = ( num1 + num2 + num3 ) / 2\n",
    "\n",
    "print(average_sum)"
   ]
  },
  {
   "cell_type": "markdown",
   "id": "65c5dd43-be0a-4d74-8759-93c8a9ce6a96",
   "metadata": {},
   "source": [
    "# Exercise 3: Logical Operator\n",
    "\n",
    "Logical operators are used to combine conditional statements:\n",
    "\n",
    "* Declare two variables, x and y, with values 10 and 20\n",
    "* Check if x is greater than 5 **and** y is less than 30\n",
    "* Check if either x is less than 5 **or** y is greater than 30."
   ]
  },
  {
   "cell_type": "code",
   "execution_count": 7,
   "id": "36cf4ad8-fcb6-40ac-8738-3d7629784f1a",
   "metadata": {},
   "outputs": [
    {
     "name": "stdout",
     "output_type": "stream",
     "text": [
      "Both conditions are True.\n"
     ]
    }
   ],
   "source": [
    "x = 10\n",
    "y = 20\n",
    "\n",
    "# Check if x is greater than 5 and y is less than 30.\n",
    "if x > 5 and y < 30:\n",
    "    print(\"Both conditions are True.\")"
   ]
  },
  {
   "cell_type": "code",
   "execution_count": 8,
   "id": "60de975c-1a06-407d-92d3-e12865ae5a34",
   "metadata": {},
   "outputs": [],
   "source": [
    "# Check if either x is less than 5 or y is greater than 30.\n",
    "if x < 5 or y > 30:\n",
    "    print(\"At least one condition is True\")"
   ]
  },
  {
   "cell_type": "markdown",
   "id": "e0ad167f-3dc8-4222-8ab1-c19605ad477e",
   "metadata": {},
   "source": [
    "# Challenge 3:\n",
    "\n",
    "Write a condition to check if a number is even."
   ]
  },
  {
   "cell_type": "code",
   "execution_count": 11,
   "id": "691f21d4",
   "metadata": {},
   "outputs": [
    {
     "name": "stdout",
     "output_type": "stream",
     "text": [
      "the number is even\n"
     ]
    }
   ],
   "source": [
    "x = 4\n",
    "if x%2 == 0:\n",
    "    print(\"the number is even\")"
   ]
  },
  {
   "cell_type": "markdown",
   "id": "4d73e738",
   "metadata": {},
   "source": [
    "# Exercise 4: Loops\n",
    "\n",
    "Loops are used to repeat a block of code.\n",
    "\n",
    "For and While Loops:\n",
    "\n",
    "* Use a for loop to print numbers from 1 to 5.\n",
    "* Use a while loop to print even numbers from 2 to 8.\n",
    "* Calculate the sum of numbers from 1 to 10 using a loop."
   ]
  },
  {
   "cell_type": "code",
   "execution_count": 13,
   "id": "f41b80fc",
   "metadata": {},
   "outputs": [
    {
     "name": "stdout",
     "output_type": "stream",
     "text": [
      "The initial loop included: 1\n",
      "The initial loop included: 2\n",
      "The initial loop included: 3\n",
      "The initial loop included: 4\n",
      "The initial loop included: 5\n",
      "The second loop included: 2\n",
      "The second loop included: 4\n",
      "The second loop included: 6\n",
      "The second loop included: 8\n",
      "The last loop included: 1\n",
      "The last loop included: 3\n",
      "The last loop included: 6\n",
      "The last loop included: 10\n",
      "The last loop included: 15\n",
      "The last loop included: 21\n",
      "The last loop included: 28\n",
      "The last loop included: 36\n",
      "The last loop included: 45\n",
      "The last loop included: 55\n"
     ]
    }
   ],
   "source": [
    "# Using a for loop to print numbers from 1 to 5.\n",
    "for i in range(1, 6):\n",
    "    print(f\"The initial loop included: {i}\")\n",
    "\n",
    "# Using now a while loop to print even numbers from 2 to 8.\n",
    "num = 2\n",
    "while num <= 8:\n",
    "    print(f\"The second loop included: {num}\")\n",
    "    num += 2\n",
    "\n",
    "# What if you need to calculate the sum of numbers from 1 to 10 using a loop.\n",
    "sum_numbers = 0\n",
    "for j in range(1, 11):\n",
    "    sum_numbers += j\n",
    "    print(f\"The last loop included: {sum_numbers}\")"
   ]
  },
  {
   "cell_type": "markdown",
   "id": "26c526d3",
   "metadata": {},
   "source": [
    "# Challenge 4:\n",
    "\n",
    "Write the python code  to find the factorial of a number using a loop. The factorial of a number (integer positive) is the sum of multiplication of all the integers smaller than that positive integer. For example, factorial of **5** is:\n",
    "\n",
    "5 * 4 * 3 * 2 * 1 which equals to 120. \n",
    "\n",
    "How you can do that in a python script?, please try your best without using google."
   ]
  },
  {
   "cell_type": "code",
   "execution_count": 22,
   "id": "a3962029",
   "metadata": {},
   "outputs": [
    {
     "name": "stdout",
     "output_type": "stream",
     "text": [
      " The factoral for 1 is: 1\n",
      " The factoral for 2 is: 2\n",
      " The factoral for 3 is: 6\n",
      " The factoral for 4 is: 24\n",
      " The factoral for 5 is: 120\n"
     ]
    }
   ],
   "source": [
    "# Using a for loop to print numbers from 1 to 5.\n",
    "num = 5\n",
    "factoral = 1\n",
    "for i in range(1, num + 1):\n",
    "    factoral *= i\n",
    "    print(f\" The factoral for {i} is: {factoral}\")"
   ]
  },
  {
   "cell_type": "markdown",
   "id": "55bb9c04",
   "metadata": {},
   "source": [
    "# Exercise 5: If-else Statements\n",
    "\n",
    "* Declare a variable age and check **if** it's greater than 18.\n",
    "* Use **elif** to check if age is between 13 and 18.\n",
    "* **If** neither condition is met, print \"Age is below 13\".\n",
    "* Could you implement a simple **rock-paper-scissors** game using if-else statements?"
   ]
  },
  {
   "cell_type": "code",
   "execution_count": 25,
   "id": "c23a4118",
   "metadata": {},
   "outputs": [
    {
     "name": "stdin",
     "output_type": "stream",
     "text": [
      "Enter the age 12\n"
     ]
    },
    {
     "name": "stdout",
     "output_type": "stream",
     "text": [
      "Age is below 13.\n"
     ]
    },
    {
     "name": "stdin",
     "output_type": "stream",
     "text": [
      "Enter your choice (rock, paper, or scissors):  rock\n"
     ]
    },
    {
     "name": "stdout",
     "output_type": "stream",
     "text": [
      "Your choice: rock\n",
      "Computer's choice: rock\n",
      "It's a tie!\n"
     ]
    }
   ],
   "source": [
    "age = int(input(\"Enter the age\"))\n",
    "\n",
    "# Check if the variable age is greater than 18.\n",
    "if age > 18:\n",
    "    print(\"You are an adult.\")\n",
    "\n",
    "# Use elif to check if age is between 13 and 18.\n",
    "elif 13 <= age <= 18:\n",
    "    print(\"You are a teenager.\")\n",
    "    # If neither condition is met, print \"Age is below 13.\"\n",
    "else:\n",
    "    print(\"Age is below 13.\")\n",
    "\n",
    "# A simple rock-paper-scissors game using if-else statements, should be something like this\n",
    "\n",
    "import random\n",
    "#We need a random library to make a fun game againts the computer, and the code has small issue can you fixed?\n",
    "\n",
    "player_choice = input(\"Enter your choice (rock, paper, or scissors): \")\n",
    "choices = [\"rock\", \"paper\", \"scissors\"]\n",
    "computer_choice = random.choice(choices)\n",
    "print(f\"Your choice: {player_choice}\")\n",
    "print(f\"Computer's choice: {computer_choice}\")\n",
    "\n",
    "if player_choice == computer_choice:\n",
    "    print(\"It's a tie!\")\n",
    "elif (\n",
    "    (player_choice == \"rock\" and computer_choice == \"scissors\")\n",
    "    or (player_choice == \"paper\" and computer_choice == \"rock\")\n",
    "    or (player_choice == \"scissors\" and computer_choice == \"paper\")\n",
    "    ):\n",
    "    print(\"You win!\")\n",
    "else:\n",
    "    print(\"Computer wins!\")\n"
   ]
  },
  {
   "cell_type": "markdown",
   "id": "e496de32",
   "metadata": {},
   "source": [
    "# Challenge 5:\n",
    "\n",
    "Help me to write the python code, I can use to provide the grades based on the marks according to the following table:\n",
    "\n",
    "| Mark   | Grade |\n",
    "|--------|-------|\n",
    "| 81-100 | 20    |\n",
    "| 61-80  | 15    |\n",
    "| 41-60  | 10    |\n",
    "| 20-40  | 5     |\n"
   ]
  },
  {
   "cell_type": "code",
   "execution_count": 29,
   "id": "d3a89aa0",
   "metadata": {},
   "outputs": [
    {
     "name": "stdin",
     "output_type": "stream",
     "text": [
      "Enter the mark 79\n"
     ]
    },
    {
     "name": "stdout",
     "output_type": "stream",
     "text": [
      "You got a 15.\n"
     ]
    }
   ],
   "source": [
    "mark = int(input(\"Enter the mark\"))\n",
    "\n",
    "# Check if the variable mark is greater than 81.\n",
    "\n",
    "if mark > 81:\n",
    "    print(\"You got a 20.\")\n",
    "\n",
    "# Use elif to check if mark is between x and y.\n",
    "elif 61 <= mark <= 80:\n",
    "    print(\"You got a 15.\")\n",
    "elif 41 <= mark <= 60:\n",
    "    print(\"You got a 10.\")\n",
    "elif 20 <= mark <= 40:\n",
    "    print(\"You got a 5.\")\n",
    "\n",
    "# If none of the conditions are met\n",
    "\n",
    "else:\n",
    "    print(\"You got a 0.\")"
   ]
  },
  {
   "cell_type": "markdown",
   "id": "1877f08b",
   "metadata": {},
   "source": [
    "# Exercise 6: Creating Functions\n",
    "\n",
    "Functions help modularize code by grouping related actions. A function is a block of organized, reusable code that can make your programs more effective, easier to read, and simple to manage. You can think functions as little self-contained programs that can perform a specific task that you can use repeatedly in your code. One of the basic principles in good programming is “do not to repeat yourself”. In other words, you should avoid having duplicate lines of code in your scripts. Functions are a good way to avoid such situations and they can save you a lot of time and effort as you don’t need to tell the computer repeatedly what to do every time it does a common task, such as converting temperatures from Fahrenheit to Celsius. \n",
    "\n",
    "\n",
    "* Define a function square that squares a given number.\n",
    "* Use the function to calculate the square of 7.\n",
    "* Write a function is_prime to check if a number is prime.\n",
    "* Finish the code!"
   ]
  },
  {
   "cell_type": "code",
   "execution_count": 31,
   "id": "9dae8d60",
   "metadata": {},
   "outputs": [
    {
     "name": "stdout",
     "output_type": "stream",
     "text": [
      "Square of 7: 49\n"
     ]
    }
   ],
   "source": [
    "# Define a function square that squares a given number.\n",
    "def square(number):\n",
    "    return number ** 2\n",
    "\n",
    "# Using the function!\n",
    "\n",
    "result = square(7)\n",
    "print(f\"Square of 7: {result}\")\n",
    "\n",
    "# Lets create another function is_prime to check if a number is prime.\n",
    "def is_prime(number):\n",
    "    if number < 2:\n",
    "        return False\n",
    "    for i in range(2, int(number ** 0.5) + 1):\n",
    "        if number % i == 0:\n",
    "            return False\n",
    "    return True\n",
    "\n",
    "# Finish the code here calling the function and adding the input to let the user provide the number."
   ]
  },
  {
   "cell_type": "markdown",
   "id": "01fc540b",
   "metadata": {},
   "source": [
    "# Challenge 6:\n",
    "\n",
    "* Write and use a function to convert Fahrenheit to Celsius. Use the input parameter to let the user enter a number in Fahrenheit and then get the correspondant value in Celsius\n",
    "* Go to https://www.w3schools.com/python/exercise.asp?filename=exercise_functions1 and complete the 6 excersices. Functions are a very important part of Python so we will use extra time to practice that.\n"
   ]
  },
  {
   "cell_type": "code",
   "execution_count": 46,
   "id": "93f63b12",
   "metadata": {},
   "outputs": [
    {
     "name": "stdin",
     "output_type": "stream",
     "text": [
      "Enter the Fahrenheit:  32\n"
     ]
    },
    {
     "name": "stdout",
     "output_type": "stream",
     "text": [
      "Celsius is 0.0 when Fahrenheit is 32\n"
     ]
    }
   ],
   "source": [
    "fahrenheit = int(input(\"Enter the Fahrenheit: \"))\n",
    "\n",
    "def f_to_c(temperature):\n",
    "    celsius = (temperature - 32) * 5/9\n",
    "    print(f\"Celsius is {celsius} when Fahrenheit is {temperature}\")\n",
    "    return celsius\n",
    "\n",
    "result_celsius = f_to_c(fahrenheit)"
   ]
  },
  {
   "cell_type": "markdown",
   "id": "fcb5162a",
   "metadata": {},
   "source": [
    "# Exercise 7 Numpy:\n",
    "\n",
    "NumPy is a library for numerical operations in Python. NumPy is a Python library used for working with arrays. It also has functions for working in domain of linear algebra, fourier transform, and matrices. NumPy was created in 2005 by Travis Oliphant. It is an open source project and you can use it freely.\n",
    "\n",
    "NumPy stands for Numerical Python.\n",
    " \n",
    "* Import NumPy and create a 1D array with values 1 to 5. \n",
    "* Create a 2D array with random integers. \n",
    "* Perform element-wise multiplication of two arrays. "
   ]
  },
  {
   "cell_type": "code",
   "execution_count": 50,
   "id": "2c6ef804",
   "metadata": {},
   "outputs": [
    {
     "name": "stdout",
     "output_type": "stream",
     "text": [
      "[1 2 3 4 5]\n"
     ]
    }
   ],
   "source": [
    "import numpy as np\n",
    "\n",
    "arr = np.array([1, 2, 3, 4, 5])\n",
    "\n",
    "print(arr)"
   ]
  },
  {
   "cell_type": "code",
   "execution_count": 51,
   "id": "3eddfb34",
   "metadata": {},
   "outputs": [
    {
     "name": "stdout",
     "output_type": "stream",
     "text": [
      "[[1 2 3]\n",
      " [4 5 6]]\n",
      "[[2 6 9]\n",
      " [7 9 2]\n",
      " [7 6 1]]\n"
     ]
    }
   ],
   "source": [
    "import numpy as np\n",
    "\n",
    "arr = np.array([[1, 2, 3], [4, 5, 6]])\n",
    "\n",
    "print(arr)\n",
    "\n",
    "#Or what if we can use the random function:\n",
    "\n",
    "array_2d = np.random.randint(0, 10, size=(3, 3))\n",
    "print(array_2d)"
   ]
  },
  {
   "cell_type": "code",
   "execution_count": 52,
   "id": "97fa0f40",
   "metadata": {},
   "outputs": [
    {
     "name": "stdout",
     "output_type": "stream",
     "text": [
      "40320\n"
     ]
    }
   ],
   "source": [
    "import numpy as np\n",
    "\n",
    "arr1 = np.array([1, 2, 3, 4])\n",
    "arr2 = np.array([5, 6, 7, 8])\n",
    "\n",
    "x = np.prod([arr1, arr2])\n",
    "\n",
    "print(x)\n"
   ]
  },
  {
   "cell_type": "markdown",
   "id": "87c06759",
   "metadata": {},
   "source": [
    "# Challenge 7:\n",
    "\n",
    "Calculate the mean and standard deviation of elements in a NumPy array. The outcome should have something like ``print(f\"Mean: {mean_value}, Standard Deviation: {std_deviation}\")``"
   ]
  },
  {
   "cell_type": "code",
   "execution_count": 54,
   "id": "c8d9760f",
   "metadata": {},
   "outputs": [
    {
     "name": "stdout",
     "output_type": "stream",
     "text": [
      "Mean: 3.5, Standard Deviation: 1.707825127659933\n"
     ]
    }
   ],
   "source": [
    "import numpy as np\n",
    "arr = np.array([1,2,3,4,5,6])\n",
    "mean_value = np.mean(arr)\n",
    "std_deviation = np.std(arr)\n",
    "\n",
    "print(f\"Mean: {mean_value}, Standard Deviation: {std_deviation}\")"
   ]
  },
  {
   "cell_type": "markdown",
   "id": "12187fb8",
   "metadata": {},
   "source": [
    "# Exercise 8: Pandas DataFrame\n",
    "\n",
    "Pandas is a powerful data manipulation library.\n",
    "\n",
    "* Create a DataFrame with a dictionary of student names and their marks.\n",
    "* Add a new column for the grade based on the mark.\n",
    "* Filter the DataFrame to show only students with scores above 80.\n",
    "* Read a CSV file into a DataFrame and perform basic data exploration."
   ]
  },
  {
   "cell_type": "code",
   "execution_count": 60,
   "id": "937f9f0d",
   "metadata": {},
   "outputs": [
    {
     "name": "stdout",
     "output_type": "stream",
     "text": [
      "                 city    country    pop    lat    lon  capital\n",
      "0  'Abasan al-Jadidah  Palestine   5629  31.31  34.34        0\n",
      "1  'Abasan al-Kabirah  Palestine  18999  31.32  34.35        0\n",
      "2        'Abdul Hakim   Pakistan  47788  30.55  72.11        0\n",
      "3  'Abdullah-as-Salam     Kuwait  21817  29.36  47.98        0\n",
      "4               'Abud  Palestine   2456  32.03  35.07        0\n"
     ]
    }
   ],
   "source": [
    "import pandas as pd\n",
    "\n",
    "# Create a DataFrame with a dictionary of student names and their scores.\n",
    "data = {\"Student\": [\"Alice\", \"Bob\", \"Charlie\"], \"Mark\": [85, 92, 78]} # Do you recall what a dictionary is???\n",
    "df = pd.DataFrame(data)\n",
    "\n",
    "# Add a new column for the grade based on the score using a loop.\n",
    "grades = []\n",
    "for score in df[\"Mark\"]:\n",
    "    if score >= 90:\n",
    "        grades.append(\"A\")\n",
    "    elif score >= 80:\n",
    "        grades.append(\"B\")\n",
    "    else:\n",
    "        grades.append(\"C\")\n",
    "\n",
    "df[\"Grade\"] = grades\n",
    "\n",
    "# What if I can tell you there is a way you can avoid this long for loop, by using a function call lambda to run over each row in your dataframe., uncomment the following line and try that out.\n",
    "# compare the results, and make sure you understand what the code is doing.\n",
    "#df[\"Grade\"] = df[\"Mark\"].apply(lambda x: \"A\" if x >= 90 else \"B\" if x >= 80 else \"C\")\n",
    "\n",
    "\n",
    "# Filter the DataFrame to show only students with scores above 80.\n",
    "filtered_df = df[df[\"Mark\"] > 80]\n",
    "\n",
    "# Read a CSV file into a DataFrame and perform basic data exploration.\n",
    "# There is a world_cities.csv in the Moodle folder, make sure you add that in the folder where you have this notebook/\n",
    "\n",
    "csv_df = pd.read_csv('world_cities.csv')\n",
    "print(csv_df.head())"
   ]
  },
  {
   "cell_type": "markdown",
   "id": "6510f957",
   "metadata": {},
   "source": [
    "# Challenge 8:\n",
    "\n",
    "You have the following dataframes 'sales_data' and 'movie_ratings'\n"
   ]
  },
  {
   "cell_type": "code",
   "execution_count": 63,
   "id": "cf46ad3e",
   "metadata": {},
   "outputs": [
    {
     "name": "stdout",
     "output_type": "stream",
     "text": [
      "         Date Region Product  Quantity  Revenue\n",
      "0  2022-01-01  North       A        15     1500\n",
      "1  2022-01-02  South       B         8     1200\n",
      "2  2022-01-03   East       A        12     1800\n",
      "3  2022-01-04   West       C        10      900\n",
      "    Title     Genre  Year  Rating\n",
      "0  Movie1    Action  2015     8.5\n",
      "1  Movie2     Drama  2010     7.8\n",
      "2  Movie3    Comedy  2018     9.2\n",
      "3  Movie4  Thriller  2011     8.0\n"
     ]
    }
   ],
   "source": [
    "import pandas as pd\n",
    "\n",
    "sales_data_dict = {\n",
    "    'Date': ['2022-01-01', '2022-01-02', '2022-01-03', '2022-01-04'],\n",
    "    'Region': ['North', 'South', 'East', 'West'],\n",
    "    'Product': ['A', 'B', 'A', 'C'],\n",
    "    'Quantity': [15, 8, 12, 10],\n",
    "    'Revenue': [1500, 1200, 1800, 900]\n",
    "}\n",
    "\n",
    "sales_data = pd.DataFrame(sales_data_dict)\n",
    "\n",
    "\n",
    "movie_ratings_dict = {\n",
    "    'Title': ['Movie1', 'Movie2', 'Movie3', 'Movie4'],\n",
    "    'Genre': ['Action', 'Drama', 'Comedy', 'Thriller'],\n",
    "    'Year': [2015, 2010, 2018, 2011],\n",
    "    'Rating': [8.5, 7.8, 9.2, 8.0]\n",
    "}\n",
    "\n",
    "movie_ratings = pd.DataFrame(movie_ratings_dict)\n",
    "\n",
    "print(sales_data)\n",
    "print(movie_ratings)\n"
   ]
  },
  {
   "cell_type": "markdown",
   "id": "b40eb74d",
   "metadata": {},
   "source": [
    "* Display the first 5 rows of the DataFrame 'sales_data'\n",
    "* Use `loc` to filter and display rows where the \"Quantity\" is greater than 10 and the \"Region\" is \"North\".\n",
    "* Use `iloc` to display the values in the first row and the first three columns.\n",
    "* Calculate the total sales for each region and display the result.\n",
    "\n",
    "* Display the last 3 rows of the DataFrame 'movie_ratings'.\n",
    "* Calculate and display the average rating for each genre."
   ]
  },
  {
   "cell_type": "code",
   "execution_count": 65,
   "id": "8bef4617",
   "metadata": {},
   "outputs": [
    {
     "name": "stdout",
     "output_type": "stream",
     "text": [
      "<bound method NDFrame.head of          Date Region Product  Quantity  Revenue\n",
      "0  2022-01-01  North       A        15     1500\n",
      "1  2022-01-02  South       B         8     1200\n",
      "2  2022-01-03   East       A        12     1800\n",
      "3  2022-01-04   West       C        10      900>\n"
     ]
    }
   ],
   "source": [
    "print(sales_data.head)\n"
   ]
  },
  {
   "cell_type": "code",
   "execution_count": 68,
   "id": "21316319-a2e8-4c7d-89b2-6d4d3b535a86",
   "metadata": {},
   "outputs": [
    {
     "name": "stdout",
     "output_type": "stream",
     "text": [
      "         Date Region Product  Quantity  Revenue\n",
      "0  2022-01-01  North       A        15     1500\n",
      "Date       2022-01-01\n",
      "Region          North\n",
      "Product             A\n",
      "Name: 0, dtype: object\n"
     ]
    }
   ],
   "source": [
    "df = sales_data \n",
    "filtered_data = df.loc[(df['Quantity'] > 10) & (df['Region'] == 'North')]\n",
    "print(filtered_data)\n",
    "first_row_first_three_columns = df.iloc[0,0:3]\n",
    "print(first_row_first_three_columns)"
   ]
  },
  {
   "cell_type": "code",
   "execution_count": 70,
   "id": "f2b839ed-9606-4ef8-8a3d-570ec7f672e3",
   "metadata": {},
   "outputs": [
    {
     "name": "stdout",
     "output_type": "stream",
     "text": [
      "    Title     Genre  Year  Rating\n",
      "1  Movie2     Drama  2010     7.8\n",
      "2  Movie3    Comedy  2018     9.2\n",
      "3  Movie4  Thriller  2011     8.0\n"
     ]
    }
   ],
   "source": [
    "df1 = movie_ratings\n",
    "last_3_rows_df1 = df1.tail(3)\n",
    "print(last_3_rows_df1)"
   ]
  },
  {
   "cell_type": "code",
   "execution_count": 73,
   "id": "b9bc0111-21e0-409f-aaa9-ff6fd3e1c435",
   "metadata": {},
   "outputs": [
    {
     "name": "stdout",
     "output_type": "stream",
     "text": [
      "Genre\n",
      "Action      8.5\n",
      "Comedy      9.2\n",
      "Drama       7.8\n",
      "Thriller    8.0\n",
      "Name: Rating, dtype: float64\n"
     ]
    }
   ],
   "source": [
    "average_ratings = df1.groupby('Genre')['Rating'].mean()\n",
    "print(average_ratings)"
   ]
  },
  {
   "cell_type": "markdown",
   "id": "1492e001",
   "metadata": {},
   "source": [
    "# Exercise 9: GeoPandas and Rasterio:\n",
    "\n",
    "GeoPandas deals with geospatial data, and Rasterio is used for working with raster data.\n",
    "\n",
    "* Import GeoPandas and Rasterio libraries.\n",
    "* Read a shapefile into a GeoDataFrame.\n",
    "* Open and display a raster image using Rasterio.\n",
    "* Let's recall how to perform a spatial join between a GeoDataFrame and a raster dataset.\n",
    "\n"
   ]
  },
  {
   "cell_type": "code",
   "execution_count": null,
   "id": "263e879c",
   "metadata": {},
   "outputs": [],
   "source": [
    "import geopandas as gpd\n",
    "import rasterio\n",
    "from rasterio.plot import show\n",
    "\n",
    "shapefile_path = 'Road_Safety_Accidents.shp'\n",
    "gdf = gpd.read_file(shapefile_path)\n",
    "gdf.explore()"
   ]
  },
  {
   "cell_type": "code",
   "execution_count": null,
   "id": "0d56c332",
   "metadata": {},
   "outputs": [],
   "source": [
    "raster_path = 'elev.tif'\n",
    "raster = rasterio.open(raster_path)\n",
    "show(raster)"
   ]
  },
  {
   "cell_type": "markdown",
   "id": "6f544939",
   "metadata": {},
   "source": [
    "# Challenge 9:\n",
    "\n",
    "* Recreate the explore map, but now using one of the columns to create a choropleth map Check this link to get more information https://geopandas.org/en/stable/docs/reference/api/geopandas.GeoDataFrame.explore.html\n",
    "\n",
    "* Get the histogram of the raster you plot in the exercise. Here you can get an example of how to do it: https://rasterio.readthedocs.io/en/latest/topics/plotting.html\n"
   ]
  },
  {
   "cell_type": "code",
   "execution_count": null,
   "id": "e1abe695",
   "metadata": {},
   "outputs": [],
   "source": []
  },
  {
   "cell_type": "markdown",
   "id": "aa48cd54",
   "metadata": {},
   "source": [
    "# Challenge 10: Last Mile\n",
    "\n",
    "Now make sure you Jupyter Notebook includes all the outcomes from the Excersices and Challenges, make sure you comment all the code you had to add and make sure you describe what are you doing and make sure you have the correct outcomes. Finally pull all your changes  to your UA repo, in this case all your work is save in the cloud!"
   ]
  }
 ],
 "metadata": {
  "kernelspec": {
   "display_name": "Python 3 (ipykernel)",
   "language": "python",
   "name": "python3"
  },
  "language_info": {
   "codemirror_mode": {
    "name": "ipython",
    "version": 3
   },
   "file_extension": ".py",
   "mimetype": "text/x-python",
   "name": "python",
   "nbconvert_exporter": "python",
   "pygments_lexer": "ipython3",
   "version": "3.11.6"
  }
 },
 "nbformat": 4,
 "nbformat_minor": 5
}
